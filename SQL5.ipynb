{
 "cells": [
  {
   "cell_type": "raw",
   "id": "4e010179",
   "metadata": {},
   "source": [
    "Q-1. Write an SQL query to print details of workers excluding first names, “Vipul” and\n",
    "“Satish” from Worker table.\n",
    "ANS- Select * from Worker where FIRST_NAME not in ('Vipul','Satish');"
   ]
  },
  {
   "cell_type": "raw",
   "id": "e6ac494b",
   "metadata": {},
   "source": [
    "Q-2. Write an SQL query to print details of the Workers whose FIRST_NAME ends with\n",
    "‘h’ and contains six alphabets.\n",
    "ANS- Select * from Worker where FIRST_NAME like '_____h';"
   ]
  },
  {
   "cell_type": "code",
   "execution_count": null,
   "id": "cb826e85",
   "metadata": {},
   "outputs": [],
   "source": [
    "Q-3. Write a query to validate Email of Employee.\n",
    "ANS- SELECT *FROM EMPLOYEE\n",
    "       WHERE e_mail LIKE 'BHALEKARPOOJA2@GMAIL.COM';"
   ]
  }
 ],
 "metadata": {
  "kernelspec": {
   "display_name": "Python 3 (ipykernel)",
   "language": "python",
   "name": "python3"
  },
  "language_info": {
   "codemirror_mode": {
    "name": "ipython",
    "version": 3
   },
   "file_extension": ".py",
   "mimetype": "text/x-python",
   "name": "python",
   "nbconvert_exporter": "python",
   "pygments_lexer": "ipython3",
   "version": "3.9.7"
  }
 },
 "nbformat": 4,
 "nbformat_minor": 5
}
